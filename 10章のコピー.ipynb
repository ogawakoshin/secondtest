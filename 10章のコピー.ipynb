{
 "cells": [
  {
   "attachments": {},
   "cell_type": "markdown",
   "metadata": {},
   "source": [
    "## モデルの評価と精度をあげる方法とは\n",
    "#### 機械学習の課題とアプローチ\n",
    "①新しいデータに適合できない場合  \n",
    "オーバーフィッティング(過学習)  \n",
    "あらかじめテスト用にデータを抜き出しておくホールドアウト法や交差検証法がある  \n",
    "②モデルの良さの判定する指標や方法  \n",
    "予測精度をはかるための混同行列やROC曲線がある  \n",
    "③精度が高いモデルを作成するには  \n",
    "アンサンブル学習  \n",
    "個々の学習結果を組み合わせて複数の結果で予測する  \n",
    "バギング、ブースティングなど"
   ]
  },
  {
   "cell_type": "code",
   "execution_count": 87,
   "metadata": {},
   "outputs": [
    {
     "data": {
      "text/plain": [
       "'%.3f'"
      ]
     },
     "execution_count": 87,
     "metadata": {},
     "output_type": "execute_result"
    }
   ],
   "source": [
    "#データ加工、処理・分析ライブラリ\n",
    "import numpy as np\n",
    "import numpy.random as random\n",
    "import scipy as sp\n",
    "import pandas as pd\n",
    "from pandas import Series ,DataFrame\n",
    "\n",
    "#可視化ライブラリ\n",
    "import matplotlib.pyplot as plt\n",
    "import matplotlib as mpl\n",
    "import seaborn as sns\n",
    "%matplotlib inline\n",
    "sns.set()\n",
    "\n",
    "#機械学習ライブラリ\n",
    "import sklearn\n",
    "\n",
    "%precision 3"
   ]
  },
  {
   "attachments": {},
   "cell_type": "markdown",
   "metadata": {},
   "source": [
    "### ホールドアウト法と交差検証法\n",
    "ホールドアウト法  \n",
    "学習データとテストデータの２つランダムに分けて学習モデルで構築し、テストデータで検証する方法  \n",
    "メリット  \n",
    "高い汎化性能  \n",
    "デメリット  \n",
    "ランダムに選ばれた学習データに引っ張られる(データ量が少ない場合データが偏るかもしれない)  \n",
    "半分にデータを分け、学習データが少なくなるためにそもそも学習が進まない可能性がある  \n",
    "  \n",
    "交差検証法(k分割交差検証)  \n",
    "データの役割を学習用と検証用に交差させる検証法  \n"
   ]
  },
  {
   "cell_type": "code",
   "execution_count": 88,
   "metadata": {},
   "outputs": [
    {
     "name": "stdout",
     "output_type": "stream",
     "text": [
      "cross validation scores:[0.904 0.912 0.956 0.939 0.956]\n",
      "Cross validation scores:0.933+-0.022\n"
     ]
    }
   ],
   "source": [
    "#必要なライブラリ等のインポート\n",
    "from sklearn.datasets import load_breast_cancer\n",
    "from sklearn.tree import DecisionTreeClassifier\n",
    "from sklearn.model_selection import cross_val_score\n",
    "#乳がんのデータを読み込む\n",
    "cancer = load_breast_cancer()\n",
    "\n",
    "#決定木クラスの初期化\n",
    "tree = DecisionTreeClassifier(criterion='entropy',max_depth = 3,random_state=0)\n",
    "\n",
    "#k分割交差検証の実行\n",
    "scores = cross_val_score(tree,cancer.data,cancer.target,cv = 5)\n",
    "\n",
    "#結果の表示\n",
    "print('cross validation scores:{}'.format(scores))\n",
    "print('Cross validation scores:{:.3f}+-{:.3f}'.format(scores.mean(),scores.std()))"
   ]
  },
  {
   "cell_type": "code",
   "execution_count": 89,
   "metadata": {},
   "outputs": [
    {
     "name": "stdout",
     "output_type": "stream",
     "text": [
      "cross validation scores:[0.93  0.939 0.956 0.956 0.956]\n",
      "Cross validation scores:0.947+-0.011\n"
     ]
    },
    {
     "name": "stderr",
     "output_type": "stream",
     "text": [
      "/Users/ogawakoshin/Library/Python/3.9/lib/python/site-packages/sklearn/linear_model/_logistic.py:458: ConvergenceWarning: lbfgs failed to converge (status=1):\n",
      "STOP: TOTAL NO. of ITERATIONS REACHED LIMIT.\n",
      "\n",
      "Increase the number of iterations (max_iter) or scale the data as shown in:\n",
      "    https://scikit-learn.org/stable/modules/preprocessing.html\n",
      "Please also refer to the documentation for alternative solver options:\n",
      "    https://scikit-learn.org/stable/modules/linear_model.html#logistic-regression\n",
      "  n_iter_i = _check_optimize_result(\n",
      "/Users/ogawakoshin/Library/Python/3.9/lib/python/site-packages/sklearn/linear_model/_logistic.py:458: ConvergenceWarning: lbfgs failed to converge (status=1):\n",
      "STOP: TOTAL NO. of ITERATIONS REACHED LIMIT.\n",
      "\n",
      "Increase the number of iterations (max_iter) or scale the data as shown in:\n",
      "    https://scikit-learn.org/stable/modules/preprocessing.html\n",
      "Please also refer to the documentation for alternative solver options:\n",
      "    https://scikit-learn.org/stable/modules/linear_model.html#logistic-regression\n",
      "  n_iter_i = _check_optimize_result(\n",
      "/Users/ogawakoshin/Library/Python/3.9/lib/python/site-packages/sklearn/linear_model/_logistic.py:458: ConvergenceWarning: lbfgs failed to converge (status=1):\n",
      "STOP: TOTAL NO. of ITERATIONS REACHED LIMIT.\n",
      "\n",
      "Increase the number of iterations (max_iter) or scale the data as shown in:\n",
      "    https://scikit-learn.org/stable/modules/preprocessing.html\n",
      "Please also refer to the documentation for alternative solver options:\n",
      "    https://scikit-learn.org/stable/modules/linear_model.html#logistic-regression\n",
      "  n_iter_i = _check_optimize_result(\n",
      "/Users/ogawakoshin/Library/Python/3.9/lib/python/site-packages/sklearn/linear_model/_logistic.py:458: ConvergenceWarning: lbfgs failed to converge (status=1):\n",
      "STOP: TOTAL NO. of ITERATIONS REACHED LIMIT.\n",
      "\n",
      "Increase the number of iterations (max_iter) or scale the data as shown in:\n",
      "    https://scikit-learn.org/stable/modules/preprocessing.html\n",
      "Please also refer to the documentation for alternative solver options:\n",
      "    https://scikit-learn.org/stable/modules/linear_model.html#logistic-regression\n",
      "  n_iter_i = _check_optimize_result(\n",
      "/Users/ogawakoshin/Library/Python/3.9/lib/python/site-packages/sklearn/linear_model/_logistic.py:458: ConvergenceWarning: lbfgs failed to converge (status=1):\n",
      "STOP: TOTAL NO. of ITERATIONS REACHED LIMIT.\n",
      "\n",
      "Increase the number of iterations (max_iter) or scale the data as shown in:\n",
      "    https://scikit-learn.org/stable/modules/preprocessing.html\n",
      "Please also refer to the documentation for alternative solver options:\n",
      "    https://scikit-learn.org/stable/modules/linear_model.html#logistic-regression\n",
      "  n_iter_i = _check_optimize_result(\n"
     ]
    }
   ],
   "source": [
    "#練習問題10-1\n",
    "#ロジスティック回帰\n",
    "\n",
    "from sklearn.datasets import load_breast_cancer\n",
    "from sklearn.tree import DecisionTreeClassifier\n",
    "from sklearn.model_selection import cross_val_score\n",
    "#ロジスティック回帰のためのインポート\n",
    "from sklearn.linear_model import LogisticRegression\n",
    "\n",
    "#乳がんのデータを読み込むs\n",
    "cancer = load_breast_cancer()\n",
    "#ロジスティック回帰の初期化\n",
    "model = LogisticRegression()\n",
    "#k分割交差検証の実行\n",
    "scores = cross_val_score(model,cancer.data,cancer.target)\n",
    "#結果の表示\n",
    "print('cross validation scores:{}'.format(scores))\n",
    "print('Cross validation scores:{:.3f}+-{:.3f}'.format(scores.mean(),scores.std()))"
   ]
  },
  {
   "attachments": {},
   "cell_type": "markdown",
   "metadata": {},
   "source": [
    "#### パフォーマンスチューニング:ハイパーパラメータチューニング\n",
    "モデルの汎化性能を向上させるための手法  \n",
    "グリッドサーチ：アルゴリズムが固有に持つハイパーパラメータのチューニング手法  \n",
    "ハイパーパラメータ：予め人が実装上の都合から決めておくパラメータのこと(木の深さ、正則化のパラメータなど)  \n",
    "注目したいいくつかのハイパーパラメータの全ての組み合わせについて交差検証を行い、  \n",
    "最も性能が高いパラメータの組み合わせを探索してベストモデルとして学習する"
   ]
  },
  {
   "cell_type": "code",
   "execution_count": 90,
   "metadata": {},
   "outputs": [
    {
     "name": "stdout",
     "output_type": "stream",
     "text": [
      "ベストスコア:0.91\n",
      "その時のパラメータ(gamma,C):(0.001, 1.0)\n"
     ]
    },
    {
     "data": {
      "text/plain": [
       "<Axes: >"
      ]
     },
     "execution_count": 90,
     "metadata": {},
     "output_type": "execute_result"
    },
    {
     "data": {
      "image/png": "[encoded data removed]",
      "text/plain": [
       "<Figure size 640x480 with 2 Axes>"
      ]
     },
     "metadata": {},
     "output_type": "display_data"
    }
   ],
   "source": [
    "#インポート\n",
    "from sklearn.model_selection import GridSearchCV\n",
    "from sklearn.model_selection import train_test_split\n",
    "from sklearn.svm import SVC\n",
    "\n",
    "#乳がんのデータを読み込み\n",
    "\n",
    "cancer = load_breast_cancer()\n",
    "#訓練データとテストデータに分ける\n",
    "X_train,X_test,y_train,y_test=train_test_split(\n",
    "    cancer.data,\n",
    "    cancer.target,\n",
    "    stratify=cancer.target,\n",
    "    random_state = 0\n",
    ")\n",
    "#ハイパーパラメータの全ての組み合わせでモデル構築・検証\n",
    "scores = {}\n",
    "for gamma in np.logspace(-3,2,num=6):\n",
    "    for C in np.logspace(-3,2,num=6):\n",
    "        svm = SVC(gamma = gamma,C=C)\n",
    "        svm.fit(X_train,y_train)\n",
    "        scores[(gamma,C)]=svm.score(X_test,y_test)\n",
    "\n",
    "#検証結果をscoresに格納\n",
    "scores = pd.Series(scores)\n",
    "\n",
    "#表示\n",
    "print('ベストスコア:{:.2f}'.format(scores.max()))\n",
    "print('その時のパラメータ(gamma,C):{}'.format(scores.idxmax()))\n",
    "\n",
    "#ヒートマップを表示。縦軸にgamma,横軸にCを表示\n",
    "sns.heatmap(scores.unstack())"
   ]
  },
  {
   "cell_type": "code",
   "execution_count": 91,
   "metadata": {},
   "outputs": [
    {
     "name": "stdout",
     "output_type": "stream",
     "text": [
      "Best cross validation score :0.925\n",
      "Best parameters :{'C': 1.0, 'gamma': 0.001}\n",
      "Test score:0.909\n"
     ]
    }
   ],
   "source": [
    "#GridSearchCV関数を用いてグリッドサーチをする\n",
    "#インポート\n",
    "from sklearn.model_selection import GridSearchCV\n",
    "from sklearn.model_selection import train_test_split\n",
    "from sklearn.svm import SVC\n",
    "\n",
    "#乳がんのデータを読み込み\n",
    "\n",
    "cancer = load_breast_cancer()\n",
    "#訓練データとテストデータに分ける\n",
    "X_train,X_test,y_train,y_test=train_test_split(\n",
    "    cancer.data,\n",
    "    cancer.target,\n",
    "    stratify=cancer.target,\n",
    "    random_state = 0\n",
    ")\n",
    "#ハイパーパラメータの全ての組み合わせでモデル構築・検証\n",
    "param_grid = {\n",
    "    'C':np.logspace(-3,2,num=6),\n",
    "    'gamma':np.logspace(-3,2,num=6)\n",
    "}\n",
    "\n",
    "#GridSearchCVの初期化\n",
    "gs = GridSearchCV(\n",
    "    estimator=SVC(),\n",
    "    param_grid=param_grid,\n",
    "    cv=5\n",
    ")\n",
    "\n",
    "#ハイパーパラメータの組み合わせの検証とベストモデルの構築\n",
    "gs.fit(X_train,y_train)\n",
    "\n",
    "#表示\n",
    "print('Best cross validation score :{:.3f}'.format(gs.best_score_))\n",
    "print('Best parameters :{}'.format(gs.best_params_))\n",
    "print('Test score:{:.3f}'.format(gs.score(X_test,y_test)))"
   ]
  },
  {
   "attachments": {},
   "cell_type": "markdown",
   "metadata": {},
   "source": [
    "### ランダムサーチ  \n",
    "モンテカルロ的にハイパーパラメータをランダムに選ぶことを繰り返すことで  \n",
    "最適解を見つける手法  \n",
    "\n",
    "### heperopt  \n",
    "https://qiita.com/kenchin110100/items/ac3edb480d789481f134  \n",
    "Sequential Model-based Global Optimization（SMBO）  \n",
    "パラメータを使用した際の損失を予測する関数とどのくらいそのパラメータに  \n",
    "更新した際に損失が減りそうかの期待値の計算をする関数を用いて  \n",
    "最適なハイパーパラメータを見つける枠組(MCMC法みたいなもの)  \n",
    "Tree-structured Parzen Estimator Approach（TPE）  \n",
    "パラメータを使用した際の損失を予測する関数とどのくらいそのパラメータに  \n",
    "更新した際に損失が減りそうかの期待値の計算をする関数の枠組"
   ]
  },
  {
   "cell_type": "code",
   "execution_count": 92,
   "metadata": {},
   "outputs": [
    {
     "name": "stdout",
     "output_type": "stream",
     "text": [
      "Best cross validation score :0.944\n",
      "Best parameters :{'max_depth': 4, 'min_samples_leaf': 5}\n",
      "Test score:0.937\n"
     ]
    }
   ],
   "source": [
    "#練習問題10-2\n",
    "#GridSearchCV関数を用いてグリッドサーチをする\n",
    "#インポート\n",
    "from sklearn.model_selection import GridSearchCV\n",
    "from sklearn.model_selection import train_test_split\n",
    "from sklearn.tree import DecisionTreeClassifier\n",
    "from sklearn.svm import SVC\n",
    "\n",
    "#乳がんのデータを読み込み\n",
    "cancer = load_breast_cancer()\n",
    "\n",
    "#訓練データとテストデータに分ける\n",
    "X_train,X_test,y_train,y_test=train_test_split(\n",
    "    cancer.data,\n",
    "    cancer.target,\n",
    "    stratify=cancer.target,\n",
    "    random_state = 0\n",
    ")\n",
    "#ハイパーパラメータの全ての組み合わせでモデル構築・検証\n",
    "param_grid = {\n",
    "    'max_depth':[2,3,4,5],\n",
    "    'min_samples_leaf':[2,3,4,5]\n",
    "}\n",
    "\n",
    "#GridSearchCVの初期化\n",
    "gs = GridSearchCV(\n",
    "    estimator=DecisionTreeClassifier(),\n",
    "    param_grid=param_grid,\n",
    "    cv=5\n",
    ")\n",
    "\n",
    "#ハイパーパラメータの組み合わせの検証とベストモデルの構築\n",
    "gs.fit(X_train,y_train)\n",
    "\n",
    "#表示\n",
    "print('Best cross validation score :{:.3f}'.format(gs.best_score_))\n",
    "print('Best parameters :{}'.format(gs.best_params_))\n",
    "print('Test score:{:.3f}'.format(gs.score(X_test,y_test)))"
   ]
  },
  {
   "attachments": {},
   "cell_type": "markdown",
   "metadata": {},
   "source": [
    "#### パフォーマンスチューニング\n",
    "特徴量の扱い  \n",
    "学習不足の場合\n",
    "過学習はしていないが学習がうまくいっていない場合はデータ量を増やして特徴量を増やす。  \n",
    "特徴量を細かく分ける新しい変数を追加する.特徴量同士の比率を追加する(標準化する？)で特徴量を増やす。  \n",
    "\n",
    "過学習の場合\n",
    "特徴量の数を削る次元削減、特徴量を細かく分ける特徴選択、元の特徴空間軸を別の空間軸に変換する(主成分分析？)特徴抽出  \n",
    "どの特徴量を生成するかを検討することを特徴量エンジニアリングという  \n",
    "\n",
    "プロファイリングモデル:分類  \n",
    "予測モデル:連続値の予測"
   ]
  },
  {
   "attachments": {},
   "cell_type": "markdown",
   "metadata": {},
   "source": [
    "## モデルの評価指標\n",
    "#### 混同行列  \n",
    "予測と実績の正例と負例を行列にしたもの"
   ]
  },
  {
   "cell_type": "code",
   "execution_count": 93,
   "metadata": {},
   "outputs": [
    {
     "name": "stdout",
     "output_type": "stream",
     "text": [
      "SVCtrain score:0.981\n",
      "SVCtest score:0.909\n"
     ]
    }
   ],
   "source": [
    "#はじめにSVMでガンの分類をする\n",
    "#インポート\n",
    "from sklearn.svm import SVC\n",
    "\n",
    "#乳がんのデータを読み込み\n",
    "cancer = load_breast_cancer()\n",
    "\n",
    "#訓練データとテストデータに分ける\n",
    "X_train,X_test,y_train,y_test=train_test_split(\n",
    "    cancer.data,\n",
    "    cancer.target,\n",
    "    stratify=cancer.target,\n",
    "    random_state = 0\n",
    ")\n",
    "\n",
    "#クラスの初期化と学習\n",
    "model = SVC(gamma = 0.001,C=1)\n",
    "model.fit(X_train,y_train)\n",
    "\n",
    "#表示\n",
    "print('{}train score:{:.3f}'.format(model.__class__.__name__,model.score(X_train,y_train)))\n",
    "print('{}test score:{:.3f}'.format(model.__class__.__name__,model.score(X_test,y_test)))"
   ]
  },
  {
   "cell_type": "code",
   "execution_count": 94,
   "metadata": {},
   "outputs": [
    {
     "name": "stdout",
     "output_type": "stream",
     "text": [
      "confusion matrix :\n",
      "[[49  4]\n",
      " [ 9 81]]\n"
     ]
    }
   ],
   "source": [
    "#SVMでの結果を混同行列にする\n",
    "#インポート\n",
    "from sklearn.metrics import confusion_matrix\n",
    "\n",
    "#テストデータを使って予測値を算出\n",
    "y_pred = model.predict(X_test)\n",
    "\n",
    "m=confusion_matrix(y_test,y_pred)\n",
    "print('confusion matrix :\\n{}'.format(m))"
   ]
  },
  {
   "cell_type": "code",
   "execution_count": 95,
   "metadata": {},
   "outputs": [
    {
     "name": "stdout",
     "output_type": "stream",
     "text": [
      "正解率:0.909\n",
      "適合度:0.953\n",
      "再現度:0.900\n",
      "F1値:0.926\n"
     ]
    }
   ],
   "source": [
    "#正解率\n",
    "accuracy=(m[0,0]+m[1,1])/m.sum()\n",
    "print('正解率:{:.3f}'.format(accuracy))\n",
    "\n",
    "#適合度\n",
    "precision=(m[1,1])/m[:,1].sum()\n",
    "#１と予測した中でどれだけ１であったかの割合\n",
    "\n",
    "#再現率\n",
    "recall = (m[1,1])/m[1,:].sum()\n",
    "#実際に１だった中で正しく１と予測できた割合\n",
    "\n",
    "#F1スコア\n",
    "f1 = 2*(precision*recall)/(precision+recall)\n",
    "#適合率と再現率の調和平均\n",
    "\n",
    "print('適合度:{:.3f}'.format(precision))\n",
    "print('再現度:{:.3f}'.format(recall))\n",
    "print('F1値:{:.3f}'.format(f1))"
   ]
  },
  {
   "cell_type": "code",
   "execution_count": 96,
   "metadata": {},
   "outputs": [
    {
     "name": "stdout",
     "output_type": "stream",
     "text": [
      "適合率:0.953\n",
      "再現率:0.900\n",
      "F1値:0.926\n"
     ]
    }
   ],
   "source": [
    "#sklearnの関数\n",
    "from sklearn.metrics import precision_score,recall_score,f1_score\n",
    "\n",
    "print('適合率:{:.3f}'.format(precision_score(y_test,y_pred)))\n",
    "print('再現率:{:.3f}'.format(recall_score(y_test,y_pred)))\n",
    "print('F1値:{:.3f}'.format(f1_score(y_test,y_pred)))"
   ]
  },
  {
   "cell_type": "code",
   "execution_count": 97,
   "metadata": {},
   "outputs": [
    {
     "name": "stdout",
     "output_type": "stream",
     "text": [
      "LogisticRegressiontrain score:0.955\n",
      "LogisticRegressiontest score:0.930\n"
     ]
    },
    {
     "name": "stderr",
     "output_type": "stream",
     "text": [
      "/Users/ogawakoshin/Library/Python/3.9/lib/python/site-packages/sklearn/linear_model/_logistic.py:458: ConvergenceWarning: lbfgs failed to converge (status=1):\n",
      "STOP: TOTAL NO. of ITERATIONS REACHED LIMIT.\n",
      "\n",
      "Increase the number of iterations (max_iter) or scale the data as shown in:\n",
      "    https://scikit-learn.org/stable/modules/preprocessing.html\n",
      "Please also refer to the documentation for alternative solver options:\n",
      "    https://scikit-learn.org/stable/modules/linear_model.html#logistic-regression\n",
      "  n_iter_i = _check_optimize_result(\n"
     ]
    }
   ],
   "source": [
    "#練習問題10-3\n",
    "#ロジスティック回帰\n",
    "\n",
    "from sklearn.datasets import load_breast_cancer\n",
    "from sklearn.tree import DecisionTreeClassifier\n",
    "from sklearn.model_selection import cross_val_score\n",
    "#ロジスティック回帰のためのインポート\n",
    "from sklearn.linear_model import LogisticRegression\n",
    "\n",
    "#乳がんのデータを読み込むs\n",
    "cancer = load_breast_cancer()\n",
    "\n",
    "#訓練データとテストデータに分ける\n",
    "X_train,X_test,y_train,y_test=train_test_split(\n",
    "    cancer.data,\n",
    "    cancer.target,\n",
    "    stratify=cancer.target,\n",
    "    random_state = 0\n",
    ")\n",
    "\n",
    "#ロジスティック回帰の初期化\n",
    "model = LogisticRegression()\n",
    "model.fit(X_train,y_train)\n",
    "\n",
    "#表示\n",
    "print('{}train score:{:.3f}'.format(model.__class__.__name__,model.score(X_train,y_train)))\n",
    "print('{}test score:{:.3f}'.format(model.__class__.__name__,model.score(X_test,y_test)))"
   ]
  },
  {
   "cell_type": "code",
   "execution_count": 98,
   "metadata": {},
   "outputs": [
    {
     "name": "stdout",
     "output_type": "stream",
     "text": [
      "confusion matrix :\n",
      "[[48  5]\n",
      " [ 5 85]]\n"
     ]
    }
   ],
   "source": [
    "#ロジスティック回帰での結果を混同行列にする\n",
    "#インポート\n",
    "from sklearn.metrics import confusion_matrix\n",
    "\n",
    "#テストデータを使って予測値を算出\n",
    "y_pred = model.predict(X_test)\n",
    "\n",
    "m=confusion_matrix(y_test,y_pred)\n",
    "print('confusion matrix :\\n{}'.format(m))"
   ]
  },
  {
   "cell_type": "code",
   "execution_count": 99,
   "metadata": {},
   "outputs": [
    {
     "name": "stdout",
     "output_type": "stream",
     "text": [
      "適合率:0.944\n",
      "再現率:0.944\n",
      "F1値:0.944\n"
     ]
    }
   ],
   "source": [
    "#sklearnの関数\n",
    "from sklearn.metrics import precision_score,recall_score,f1_score\n",
    "\n",
    "print('適合率:{:.3f}'.format(precision_score(y_test,y_pred)))\n",
    "print('再現率:{:.3f}'.format(recall_score(y_test,y_pred)))\n",
    "print('F1値:{:.3f}'.format(f1_score(y_test,y_pred)))"
   ]
  },
  {
   "attachments": {},
   "cell_type": "markdown",
   "metadata": {},
   "source": [
    "### 分類モデルの評価:ROC曲線とAUC\n",
    "ROC曲線:  \n",
    "縦軸に真陽性率(tpr)、横軸に偽陽性率(fpr)をプロットしたもの  \n",
    "真陽性率:実際の正例のうちどれだけ正例と予測できたかの割合  \n",
    "偽陽性率:実際は負例のうち正例と予測されてしまった割合  \n",
    "予測確率を予測ラベルに変換する際の閾値を0.0と1.0の間で徐々に変化させ、  \n",
    "真陽性率と偽陽性率の関係をプロットする"
   ]
  },
  {
   "cell_type": "code",
   "execution_count": 100,
   "metadata": {},
   "outputs": [
    {
     "name": "stderr",
     "output_type": "stream",
     "text": [
      "/Users/ogawakoshin/Library/Python/3.9/lib/python/site-packages/sklearn/linear_model/_logistic.py:458: ConvergenceWarning: lbfgs failed to converge (status=1):\n",
      "STOP: TOTAL NO. of ITERATIONS REACHED LIMIT.\n",
      "\n",
      "Increase the number of iterations (max_iter) or scale the data as shown in:\n",
      "    https://scikit-learn.org/stable/modules/preprocessing.html\n",
      "Please also refer to the documentation for alternative solver options:\n",
      "    https://scikit-learn.org/stable/modules/linear_model.html#logistic-regression\n",
      "  n_iter_i = _check_optimize_result(\n"
     ]
    },
    {
     "data": {
      "text/html": [
       "<div>\n",
       "<style scoped>\n",
       "    .dataframe tbody tr th:only-of-type {\n",
       "        vertical-align: middle;\n",
       "    }\n",
       "\n",
       "    .dataframe tbody tr th {\n",
       "        vertical-align: top;\n",
       "    }\n",
       "\n",
       "    .dataframe thead th {\n",
       "        text-align: right;\n",
       "    }\n",
       "</style>\n",
       "<table border=\"1\" class=\"dataframe\">\n",
       "  <thead>\n",
       "    <tr style=\"text-align: right;\">\n",
       "      <th></th>\n",
       "      <th>malignant</th>\n",
       "      <th>benign</th>\n",
       "    </tr>\n",
       "  </thead>\n",
       "  <tbody>\n",
       "    <tr>\n",
       "      <th>0</th>\n",
       "      <td>0.004596</td>\n",
       "      <td>0.995404</td>\n",
       "    </tr>\n",
       "    <tr>\n",
       "      <th>1</th>\n",
       "      <td>0.000424</td>\n",
       "      <td>0.999576</td>\n",
       "    </tr>\n",
       "    <tr>\n",
       "      <th>2</th>\n",
       "      <td>0.026939</td>\n",
       "      <td>0.973061</td>\n",
       "    </tr>\n",
       "    <tr>\n",
       "      <th>3</th>\n",
       "      <td>0.007135</td>\n",
       "      <td>0.992865</td>\n",
       "    </tr>\n",
       "    <tr>\n",
       "      <th>4</th>\n",
       "      <td>0.003220</td>\n",
       "      <td>0.996780</td>\n",
       "    </tr>\n",
       "  </tbody>\n",
       "</table>\n",
       "</div>"
      ],
      "text/plain": [
       "   malignant    benign\n",
       "0   0.004596  0.995404\n",
       "1   0.000424  0.999576\n",
       "2   0.026939  0.973061\n",
       "3   0.007135  0.992865\n",
       "4   0.003220  0.996780"
      ]
     },
     "execution_count": 100,
     "metadata": {},
     "output_type": "execute_result"
    }
   ],
   "source": [
    "#ロジスティック回帰のためのインポート\n",
    "from sklearn.linear_model import LogisticRegression\n",
    "\n",
    "#乳がんのデータを読み込むs\n",
    "cancer = load_breast_cancer()\n",
    "\n",
    "#訓練データとテストデータに分ける\n",
    "X_train,X_test,y_train,y_test=train_test_split(\n",
    "    cancer.data,\n",
    "    cancer.target,\n",
    "    stratify=cancer.target,\n",
    "    random_state = 66\n",
    ")\n",
    "\n",
    "#ロジスティック回帰の初期化\n",
    "model = LogisticRegression(random_state=0)\n",
    "model.fit(X_train,y_train)\n",
    "\n",
    "#テスト用データの予測確率を計算\n",
    "results = pd.DataFrame(model.predict_proba(X_test),columns = cancer.target_names)\n",
    "\n",
    "#先頭の５行を表示\n",
    "results.head()"
   ]
  },
  {
   "cell_type": "code",
   "execution_count": 101,
   "metadata": {},
   "outputs": [
    {
     "data": {
      "text/html": [
       "<div>\n",
       "<style scoped>\n",
       "    .dataframe tbody tr th:only-of-type {\n",
       "        vertical-align: middle;\n",
       "    }\n",
       "\n",
       "    .dataframe tbody tr th {\n",
       "        vertical-align: top;\n",
       "    }\n",
       "\n",
       "    .dataframe thead th {\n",
       "        text-align: right;\n",
       "    }\n",
       "</style>\n",
       "<table border=\"1\" class=\"dataframe\">\n",
       "  <thead>\n",
       "    <tr style=\"text-align: right;\">\n",
       "      <th></th>\n",
       "      <th>malignant</th>\n",
       "      <th>benign</th>\n",
       "      <th>flag_0.4</th>\n",
       "      <th>flag_0.3</th>\n",
       "      <th>flag_0.15</th>\n",
       "      <th>flag_0.05</th>\n",
       "    </tr>\n",
       "  </thead>\n",
       "  <tbody>\n",
       "    <tr>\n",
       "      <th>0</th>\n",
       "      <td>0.004596</td>\n",
       "      <td>0.995404</td>\n",
       "      <td>1</td>\n",
       "      <td>1</td>\n",
       "      <td>1</td>\n",
       "      <td>1</td>\n",
       "    </tr>\n",
       "    <tr>\n",
       "      <th>1</th>\n",
       "      <td>0.000424</td>\n",
       "      <td>0.999576</td>\n",
       "      <td>1</td>\n",
       "      <td>1</td>\n",
       "      <td>1</td>\n",
       "      <td>1</td>\n",
       "    </tr>\n",
       "    <tr>\n",
       "      <th>2</th>\n",
       "      <td>0.026939</td>\n",
       "      <td>0.973061</td>\n",
       "      <td>1</td>\n",
       "      <td>1</td>\n",
       "      <td>1</td>\n",
       "      <td>1</td>\n",
       "    </tr>\n",
       "    <tr>\n",
       "      <th>3</th>\n",
       "      <td>0.007135</td>\n",
       "      <td>0.992865</td>\n",
       "      <td>1</td>\n",
       "      <td>1</td>\n",
       "      <td>1</td>\n",
       "      <td>1</td>\n",
       "    </tr>\n",
       "    <tr>\n",
       "      <th>4</th>\n",
       "      <td>0.003220</td>\n",
       "      <td>0.996780</td>\n",
       "      <td>1</td>\n",
       "      <td>1</td>\n",
       "      <td>1</td>\n",
       "      <td>1</td>\n",
       "    </tr>\n",
       "    <tr>\n",
       "      <th>5</th>\n",
       "      <td>0.006994</td>\n",
       "      <td>0.993006</td>\n",
       "      <td>1</td>\n",
       "      <td>1</td>\n",
       "      <td>1</td>\n",
       "      <td>1</td>\n",
       "    </tr>\n",
       "    <tr>\n",
       "      <th>6</th>\n",
       "      <td>0.006795</td>\n",
       "      <td>0.993205</td>\n",
       "      <td>1</td>\n",
       "      <td>1</td>\n",
       "      <td>1</td>\n",
       "      <td>1</td>\n",
       "    </tr>\n",
       "    <tr>\n",
       "      <th>7</th>\n",
       "      <td>0.003041</td>\n",
       "      <td>0.996959</td>\n",
       "      <td>1</td>\n",
       "      <td>1</td>\n",
       "      <td>1</td>\n",
       "      <td>1</td>\n",
       "    </tr>\n",
       "    <tr>\n",
       "      <th>8</th>\n",
       "      <td>0.887361</td>\n",
       "      <td>0.112639</td>\n",
       "      <td>0</td>\n",
       "      <td>0</td>\n",
       "      <td>0</td>\n",
       "      <td>1</td>\n",
       "    </tr>\n",
       "    <tr>\n",
       "      <th>9</th>\n",
       "      <td>0.864841</td>\n",
       "      <td>0.135159</td>\n",
       "      <td>0</td>\n",
       "      <td>0</td>\n",
       "      <td>0</td>\n",
       "      <td>1</td>\n",
       "    </tr>\n",
       "  </tbody>\n",
       "</table>\n",
       "</div>"
      ],
      "text/plain": [
       "   malignant    benign  flag_0.4  flag_0.3  flag_0.15  flag_0.05\n",
       "0   0.004596  0.995404         1         1          1          1\n",
       "1   0.000424  0.999576         1         1          1          1\n",
       "2   0.026939  0.973061         1         1          1          1\n",
       "3   0.007135  0.992865         1         1          1          1\n",
       "4   0.003220  0.996780         1         1          1          1\n",
       "5   0.006994  0.993006         1         1          1          1\n",
       "6   0.006795  0.993205         1         1          1          1\n",
       "7   0.003041  0.996959         1         1          1          1\n",
       "8   0.887361  0.112639         0         0          0          1\n",
       "9   0.864841  0.135159         0         0          0          1"
      ]
     },
     "execution_count": 101,
     "metadata": {},
     "output_type": "execute_result"
    }
   ],
   "source": [
    "#良性(benign)クラスの予測確率が0.4,0.3,0.15,0.05以上なら、それぞれの例に１を追加する\n",
    "for threshold in [0.4,0.3,0.15,0.05]:\n",
    "    results[f'flag_{threshold}']=results['benign'].map(lambda x:1 if x> threshold else 0)\n",
    "\n",
    "#先頭の10行を表示\n",
    "results.head(10)"
   ]
  },
  {
   "cell_type": "code",
   "execution_count": 102,
   "metadata": {},
   "outputs": [
    {
     "data": {
      "text/plain": [
       "<Axes: xlabel='false positive rate', ylabel='true positive rate'>"
      ]
     },
     "execution_count": 102,
     "metadata": {},
     "output_type": "execute_result"
    },
    {
     "data": {
      "image/png": "[encoded data removed]",
      "text/plain": [
       "<Figure size 640x480 with 1 Axes>"
      ]
     },
     "metadata": {},
     "output_type": "display_data"
    }
   ],
   "source": [
    "#閾値を0.01から0.99の間で50通りとして、偽陽性率と真陽性率を計算\n",
    "rates ={}\n",
    "for threshold in np.linspace(0.01,0.99,num = 50):\n",
    "    #閾値を超えているかでラベリング\n",
    "    labels = results['benign'].map(lambda x:1 if x > threshold else 0)\n",
    "    #実測値とラベルで混同行列を作る\n",
    "    m = confusion_matrix(y_test,labels)\n",
    "    rates[threshold] = {'false positive rate':m[0,1]/m[0,:].sum(),\n",
    "                        'true positive rate':m[1,1]/m[1,:].sum()}\n",
    "\n",
    "#横軸をfalse positive rate,縦軸をtrue positive rateとしてプロット\n",
    "pd.DataFrame(rates).T.plot.scatter('false positive rate','true positive rate')"
   ]
  },
  {
   "cell_type": "code",
   "execution_count": 103,
   "metadata": {},
   "outputs": [],
   "source": [
    "#ROCとAUC関数での描画\n",
    "#乳がんデータにSVM\n",
    "#インポート\n",
    "from sklearn import svm\n",
    "from sklearn.metrics import roc_curve,auc\n",
    "\n",
    "#乳がんのデータを読み込み\n",
    "cancer = load_breast_cancer()\n",
    "\n",
    "#訓練データとテストデータに分ける\n",
    "X_train,X_test,y_train,y_test=train_test_split(\n",
    "    cancer.data,\n",
    "    cancer.target,\n",
    "    test_size= 0.5,\n",
    "    random_state = 66\n",
    ")\n",
    "\n",
    "#クラスの初期化と学習\n",
    "model = SVC(kernel = 'linear',probability=True,random_state=0)\n",
    "model.fit(X_train,y_train)\n",
    "\n",
    "#予測確率を取得\n",
    "y_pred = model.predict_proba(X_test)[:,1]"
   ]
  },
  {
   "cell_type": "code",
   "execution_count": 104,
   "metadata": {},
   "outputs": [
    {
     "data": {
      "text/plain": [
       "<matplotlib.legend.Legend at 0x2826b22b0>"
      ]
     },
     "execution_count": 104,
     "metadata": {},
     "output_type": "execute_result"
    },
    {
     "data": {
      "image/png": "[encoded data removed]",
      "text/plain": [
       "<Figure size 640x480 with 1 Axes>"
      ]
     },
     "metadata": {},
     "output_type": "display_data"
    }
   ],
   "source": [
    "#AUCの計算AUC:ROCの下の面積\n",
    "#偽陽性率と真陽性率の算出\n",
    "fpr,tpr,threshold = roc_curve(y_test,y_pred)\n",
    "\n",
    "#AUCの算出\n",
    "auc1 = auc(fpr,tpr)\n",
    "\n",
    "#ROC曲線の描画\n",
    "plt.plot(fpr,tpr,color='red',label='ROC curve (area =%.3f)' % auc1)\n",
    "plt.plot([0,1],[0,1],color = 'black',linestyle = '--')\n",
    "\n",
    "plt.xlim([0.0,1.0])\n",
    "plt.ylim([0.0,1.05])\n",
    "plt.xlabel('False positive rate')\n",
    "plt.ylabel('True positive rate')\n",
    "plt.title('Receiver operating characteristic')\n",
    "plt.legend(loc = \"best\")"
   ]
  },
  {
   "cell_type": "code",
   "execution_count": 107,
   "metadata": {},
   "outputs": [
    {
     "data": {
      "text/plain": [
       "(array([1, 1, 1, 1, 1, 0, 0, 1, 1, 1, 0, 1, 1, 0, 1, 1, 0, 1, 0, 0, 1, 0,\n",
       "        1, 0, 1, 1, 0, 1, 1, 1, 1, 1, 0, 0, 0, 1, 0, 0, 1, 1, 1, 1, 0, 1,\n",
       "        0, 1, 1, 1, 0, 0, 0, 1, 0, 1, 0, 0, 1, 0, 1, 1, 0, 1, 1, 0, 0, 1,\n",
       "        1, 0, 1, 0, 1, 1, 1, 1, 0, 0, 1, 0, 1, 1, 1, 0, 1, 0, 1, 1, 1, 0,\n",
       "        0, 1, 1, 1, 1, 0, 1, 1, 0, 1, 1, 1, 1, 1, 1, 1, 0, 1, 1, 1, 0, 1,\n",
       "        0, 1, 1, 1, 1, 1, 1, 1, 0, 1, 1, 0, 1, 1, 0, 0, 0, 1, 1, 0, 1, 0,\n",
       "        1, 0, 1, 0, 1, 1, 1, 1, 0, 1, 1, 1, 0, 1, 1, 1, 1, 0, 1, 1, 1, 1,\n",
       "        1, 0, 1, 0, 1, 1, 1, 0, 1, 0, 0, 0, 0, 1, 0, 1, 1, 1, 1, 1, 0, 1,\n",
       "        1, 0, 0, 1, 0, 1, 1, 1, 1, 1, 0, 1, 1, 1, 1, 1, 0, 0, 0, 1, 0, 1,\n",
       "        1, 1, 1, 1, 1, 0, 1, 1, 0, 1, 1, 1, 1, 0, 0, 1, 0, 1, 1, 0, 1, 0,\n",
       "        1, 0, 0, 1, 1, 1, 1, 0, 0, 1, 1, 1, 0, 1, 1, 1, 0, 1, 0, 1, 1, 1,\n",
       "        1, 0, 0, 1, 0, 0, 0, 1, 1, 1, 1, 1, 0, 1, 1, 1, 1, 1, 1, 1, 1, 1,\n",
       "        1, 1, 0, 1, 1, 1, 0, 0, 1, 0, 1, 1, 0, 1, 0, 1, 0, 1, 1, 0, 0]),\n",
       " array([9.391e-01, 9.680e-01, 9.902e-01, 9.768e-01, 9.302e-01, 2.273e-01,\n",
       "        5.816e-06, 2.741e-01, 9.613e-01, 9.858e-01, 1.272e-02, 9.125e-01,\n",
       "        9.545e-01, 4.818e-02, 7.866e-01, 7.768e-01, 9.988e-03, 9.954e-01,\n",
       "        3.984e-01, 3.821e-01, 9.905e-01, 1.000e-07, 7.988e-01, 8.199e-02,\n",
       "        2.128e-01, 9.918e-01, 6.481e-03, 9.763e-01, 8.453e-01, 9.922e-01,\n",
       "        8.969e-01, 6.039e-01, 4.190e-02, 5.838e-01, 1.000e-07, 8.798e-01,\n",
       "        3.138e-07, 9.694e-02, 9.936e-01, 9.620e-01, 8.833e-01, 9.429e-01,\n",
       "        6.933e-06, 8.368e-01, 2.435e-04, 8.888e-01, 9.780e-01, 9.431e-01,\n",
       "        3.919e-04, 1.000e-07, 1.445e-02, 9.593e-01, 2.396e-04, 9.634e-01,\n",
       "        4.729e-01, 1.419e-03, 9.058e-01, 2.075e-03, 7.402e-01, 9.853e-01,\n",
       "        4.901e-01, 9.957e-01, 9.598e-01, 7.914e-01, 3.783e-07, 8.516e-01,\n",
       "        9.933e-01, 5.816e-02, 9.697e-01, 3.572e-05, 9.916e-01, 9.667e-01,\n",
       "        8.882e-01, 9.955e-01, 1.586e-05, 2.421e-01, 1.000e+00, 7.551e-02,\n",
       "        9.183e-01, 9.800e-01, 9.933e-01, 3.445e-04, 9.929e-01, 1.000e-07,\n",
       "        9.934e-01, 9.899e-01, 8.543e-01, 5.354e-01, 6.798e-02, 9.692e-01,\n",
       "        9.872e-01, 9.310e-01, 8.361e-01, 3.431e-02, 9.852e-01, 8.611e-01,\n",
       "        1.852e-01, 8.108e-01, 9.665e-01, 7.494e-01, 9.761e-01, 9.450e-01,\n",
       "        9.658e-01, 9.874e-01, 4.628e-01, 9.548e-01, 8.774e-01, 1.000e+00,\n",
       "        5.358e-05, 9.935e-01, 1.352e-01, 9.942e-01, 9.697e-01, 9.272e-01,\n",
       "        8.001e-01, 8.590e-01, 9.934e-01, 9.546e-01, 1.530e-02, 5.876e-01,\n",
       "        9.766e-01, 6.544e-05, 9.832e-01, 9.772e-01, 7.713e-01, 1.000e-07,\n",
       "        3.835e-04, 9.796e-01, 9.836e-01, 3.226e-01, 9.931e-01, 2.427e-07,\n",
       "        9.690e-01, 2.209e-01, 9.868e-01, 3.393e-06, 9.929e-01, 9.834e-01,\n",
       "        7.270e-01, 9.858e-01, 1.744e-03, 9.927e-01, 9.164e-01, 9.809e-01,\n",
       "        9.028e-02, 9.958e-01, 9.637e-01, 9.855e-01, 9.652e-01, 1.297e-03,\n",
       "        9.485e-01, 9.727e-01, 9.709e-01, 9.776e-01, 9.542e-01, 7.595e-02,\n",
       "        9.923e-01, 1.000e-07, 8.848e-01, 9.705e-01, 9.855e-01, 5.810e-05,\n",
       "        8.867e-01, 2.030e-07, 1.600e-02, 4.783e-02, 8.628e-01, 9.392e-01,\n",
       "        2.441e-03, 1.000e+00, 5.727e-01, 9.776e-01, 9.960e-01, 8.134e-01,\n",
       "        1.098e-01, 5.962e-01, 9.956e-01, 6.123e-01, 5.203e-04, 9.951e-01,\n",
       "        5.690e-07, 9.936e-01, 9.745e-01, 9.875e-01, 9.564e-01, 7.660e-01,\n",
       "        4.930e-02, 9.878e-01, 9.699e-01, 9.828e-01, 9.883e-01, 8.568e-01,\n",
       "        1.000e-07, 9.690e-02, 1.000e-07, 9.587e-01, 3.112e-02, 9.673e-01,\n",
       "        9.302e-01, 9.437e-01, 9.940e-01, 7.829e-01, 9.906e-01, 2.913e-01,\n",
       "        9.895e-01, 9.375e-01, 1.000e-07, 8.260e-01, 9.881e-01, 9.360e-01,\n",
       "        9.633e-01, 1.000e-07, 3.300e-05, 9.728e-01, 1.000e-07, 9.251e-01,\n",
       "        7.095e-01, 1.929e-03, 9.960e-01, 2.359e-03, 9.349e-01, 2.815e-05,\n",
       "        1.000e-07, 9.885e-01, 8.022e-01, 9.632e-01, 9.872e-01, 1.234e-03,\n",
       "        1.458e-04, 9.903e-01, 9.718e-01, 5.844e-01, 1.916e-03, 5.319e-01,\n",
       "        4.454e-01, 9.925e-01, 1.032e-04, 8.795e-01, 1.021e-01, 9.589e-01,\n",
       "        9.485e-01, 3.850e-01, 8.858e-01, 2.743e-01, 1.242e-02, 9.648e-01,\n",
       "        6.760e-03, 7.884e-04, 1.924e-06, 9.599e-01, 9.944e-01, 9.913e-01,\n",
       "        8.908e-01, 9.935e-01, 2.471e-04, 9.862e-01, 9.227e-01, 9.669e-01,\n",
       "        7.359e-01, 8.596e-01, 9.613e-01, 7.669e-01, 8.613e-01, 8.754e-01,\n",
       "        9.715e-01, 9.624e-01, 7.076e-01, 9.441e-01, 9.837e-01, 9.341e-01,\n",
       "        9.019e-05, 3.563e-05, 9.858e-01, 1.000e-07, 9.779e-01, 9.936e-01,\n",
       "        7.002e-01, 9.827e-01, 9.166e-02, 9.838e-01, 3.356e-01, 9.966e-01,\n",
       "        6.410e-01, 5.914e-02, 8.001e-02]))"
      ]
     },
     "execution_count": 107,
     "metadata": {},
     "output_type": "execute_result"
    }
   ],
   "source": [
    "y_test,y_pred"
   ]
  },
  {
   "attachments": {},
   "cell_type": "markdown",
   "metadata": {},
   "source": [
    "#### 理想的なROC曲線とAUC\n",
    "ROCの理想は閾値を(1.0を超える値から)徐々に小さくした時、原点から真陽性率だけ上昇するのが理想  \n",
    "AUCは１に近づくほどよい\n",
    "#### 不均衡データにおけるAUCの活用\n",
    "AUCは不均衡データにも利用可能  \n",
    "サンプル数の偏りはfprとtprの分母として扱われるため?"
   ]
  },
  {
   "cell_type": "code",
   "execution_count": 85,
   "metadata": {},
   "outputs": [
    {
     "name": "stdout",
     "output_type": "stream",
     "text": [
      "正解率(train):0.750\n",
      "正解率(test):0.632\n"
     ]
    },
    {
     "data": {
      "text/plain": [
       "<matplotlib.legend.Legend at 0x282e71fd0>"
      ]
     },
     "execution_count": 85,
     "metadata": {},
     "output_type": "execute_result"
    },
    {
     "data": {
      "image/png": "[encoded data removed]",
      "text/plain": [
       "<Figure size 640x480 with 1 Axes>"
      ]
     },
     "metadata": {},
     "output_type": "display_data"
    }
   ],
   "source": [
    "#練習問題10-4\n",
    "#sklearn.multiclassについて\n",
    "#https://qiita.com/nazoking@github/items/9decf45d106accc6afe1\n",
    "#他クラス分類、OneVsRestClassifier:出力が２つ以上のクラスの１つが選ばれる.SVMなど\n",
    "#他ラベル分類、MultiLabelBinarizer:出力が２つ以上のラベルが排他的でなく選ばれる  \n",
    "#(どれかひとつと断定的に選ばれるものでない).混合正規分布など\n",
    "\n",
    "from sklearn.datasets import load_iris\n",
    "from sklearn.svm import SVC\n",
    "from sklearn.multiclass import OneVsRestClassifier\n",
    "from sklearn.preprocessing import label_binarize\n",
    "\n",
    "iris = load_iris()\n",
    "\n",
    "X = iris.data\n",
    "#正解データはonehotvector\n",
    "y = label_binarize(iris.target,classes = [0,1,2])\n",
    "\n",
    "#データ分割\n",
    "X_train,X_test,y_train,y_test = train_test_split(X,y,random_state=0)\n",
    "\n",
    "#決定木クラスの初期化と学習\n",
    "model = OneVsRestClassifier(SVC(kernel = 'linear',probability=True,random_state=0))\n",
    "model.fit(X_train,y_train)\n",
    "\n",
    "print('正解率(train):{:.3f}'.format(model.score(X_train,y_train)))\n",
    "print('正解率(test):{:.3f}'.format(model.score(X_test,y_test)))\n",
    "#予測確率を取得(probability = Trueじゃないと使えない)\n",
    "y_score = model.predict_proba(X_test)\n",
    "#np.ravelでonehotvectorから１変数に\n",
    "fpr,tpr,_= roc_curve(y_test.ravel(),y_score.ravel())\n",
    "roc_auc = auc(fpr,tpr)\n",
    "#ROC曲線の描画\n",
    "plt.plot(fpr,tpr,color='red',label='ROC curve (area =%.3f)'.format(roc_auc))\n",
    "plt.plot([0,1],[0,1],color = 'black',linestyle = '--')\n",
    "\n",
    "plt.xlim([0.0,1.0])\n",
    "plt.ylim([0.0,1.05])\n",
    "plt.xlabel('False positive rate')\n",
    "plt.ylabel('True positive rate')\n",
    "plt.title('Receiver operating characteristic')\n",
    "plt.legend(loc = \"best\")\n"
   ]
  },
  {
   "attachments": {},
   "cell_type": "markdown",
   "metadata": {},
   "source": [
    "### 回帰モデルの評価指標\n",
    "平均２乗誤差(MSE)  \n",
    "予測値と正解の差(残差)の２乗の平均  \n",
    "\n",
    "平均絶対誤差(MAE)  \n",
    "残差の絶対値の平均:予測の外れ値の影響を受けにくい  \n",
    "\n",
    "MedAE  \n",
    "残差の絶対値の中央値:MAEよりも外れ値に対してロバスト  \n",
    "\n",
    "決定係数  \n",
    "SST:検証データの平均値で予測した場合の残差平方和  \n",
    "SSE:モデルの残差  \n",
    "R^2=1-SST/SSE 1に近いと良い  "
   ]
  },
  {
   "cell_type": "code",
   "execution_count": 86,
   "metadata": {},
   "outputs": [
    {
     "ename": "ImportError",
     "evalue": "\n`load_boston` has been removed from scikit-learn since version 1.2.\n\nThe Boston housing prices dataset has an ethical problem: as\ninvestigated in [1], the authors of this dataset engineered a\nnon-invertible variable \"B\" assuming that racial self-segregation had a\npositive impact on house prices [2]. Furthermore the goal of the\nresearch that led to the creation of this dataset was to study the\nimpact of air quality but it did not give adequate demonstration of the\nvalidity of this assumption.\n\nThe scikit-learn maintainers therefore strongly discourage the use of\nthis dataset unless the purpose of the code is to study and educate\nabout ethical issues in data science and machine learning.\n\nIn this special case, you can fetch the dataset from the original\nsource::\n\n    import pandas as pd\n    import numpy as np\n\n    data_url = \"http://lib.stat.cmu.edu/datasets/boston\"\n    raw_df = pd.read_csv(data_url, sep=\"\\s+\", skiprows=22, header=None)\n    data = np.hstack([raw_df.values[::2, :], raw_df.values[1::2, :2]])\n    target = raw_df.values[1::2, 2]\n\nAlternative datasets include the California housing dataset and the\nAmes housing dataset. You can load the datasets as follows::\n\n    from sklearn.datasets import fetch_california_housing\n    housing = fetch_california_housing()\n\nfor the California housing dataset and::\n\n    from sklearn.datasets import fetch_openml\n    housing = fetch_openml(name=\"house_prices\", as_frame=True)\n\nfor the Ames housing dataset.\n\n[1] M Carlisle.\n\"Racist data destruction?\"\n<https://medium.com/@docintangible/racist-data-destruction-113e3eff54a8>\n\n[2] Harrison Jr, David, and Daniel L. Rubinfeld.\n\"Hedonic housing prices and the demand for clean air.\"\nJournal of environmental economics and management 5.1 (1978): 81-102.\n<https://www.researchgate.net/publication/4974606_Hedonic_housing_prices_and_the_demand_for_clean_air>\n",
     "output_type": "error",
     "traceback": [
      "\u001b[0;31m---------------------------------------------------------------------------\u001b[0m",
      "\u001b[0;31mImportError\u001b[0m                               Traceback (most recent call last)",
      "Cell \u001b[0;32mIn[86], line 2\u001b[0m\n\u001b[1;32m      1\u001b[0m \u001b[39m#インポート\u001b[39;00m\n\u001b[0;32m----> 2\u001b[0m \u001b[39mfrom\u001b[39;00m \u001b[39msklearn\u001b[39;00m\u001b[39m.\u001b[39;00m\u001b[39mdatasets\u001b[39;00m \u001b[39mimport\u001b[39;00m load_boston\n\u001b[1;32m      4\u001b[0m \u001b[39m#Housingデータせっとを読み込み\u001b[39;00m\n\u001b[1;32m      5\u001b[0m boston \u001b[39m=\u001b[39m load_boston()\n",
      "File \u001b[0;32m~/Library/Python/3.9/lib/python/site-packages/sklearn/datasets/__init__.py:156\u001b[0m, in \u001b[0;36m__getattr__\u001b[0;34m(name)\u001b[0m\n\u001b[1;32m    105\u001b[0m \u001b[39mif\u001b[39;00m name \u001b[39m==\u001b[39m \u001b[39m\"\u001b[39m\u001b[39mload_boston\u001b[39m\u001b[39m\"\u001b[39m:\n\u001b[1;32m    106\u001b[0m     msg \u001b[39m=\u001b[39m textwrap\u001b[39m.\u001b[39mdedent(\n\u001b[1;32m    107\u001b[0m \u001b[39m        \u001b[39m\u001b[39m\"\"\"\u001b[39;00m\n\u001b[1;32m    108\u001b[0m \u001b[39m        `load_boston` has been removed from scikit-learn since version 1.2.\u001b[39;00m\n\u001b[0;32m   (...)\u001b[0m\n\u001b[1;32m    154\u001b[0m \u001b[39m        \"\"\"\u001b[39;00m\n\u001b[1;32m    155\u001b[0m     )\n\u001b[0;32m--> 156\u001b[0m     \u001b[39mraise\u001b[39;00m \u001b[39mImportError\u001b[39;00m(msg)\n\u001b[1;32m    157\u001b[0m \u001b[39mtry\u001b[39;00m:\n\u001b[1;32m    158\u001b[0m     \u001b[39mreturn\u001b[39;00m \u001b[39mglobals\u001b[39m()[name]\n",
      "\u001b[0;31mImportError\u001b[0m: \n`load_boston` has been removed from scikit-learn since version 1.2.\n\nThe Boston housing prices dataset has an ethical problem: as\ninvestigated in [1], the authors of this dataset engineered a\nnon-invertible variable \"B\" assuming that racial self-segregation had a\npositive impact on house prices [2]. Furthermore the goal of the\nresearch that led to the creation of this dataset was to study the\nimpact of air quality but it did not give adequate demonstration of the\nvalidity of this assumption.\n\nThe scikit-learn maintainers therefore strongly discourage the use of\nthis dataset unless the purpose of the code is to study and educate\nabout ethical issues in data science and machine learning.\n\nIn this special case, you can fetch the dataset from the original\nsource::\n\n    import pandas as pd\n    import numpy as np\n\n    data_url = \"http://lib.stat.cmu.edu/datasets/boston\"\n    raw_df = pd.read_csv(data_url, sep=\"\\s+\", skiprows=22, header=None)\n    data = np.hstack([raw_df.values[::2, :], raw_df.values[1::2, :2]])\n    target = raw_df.values[1::2, 2]\n\nAlternative datasets include the California housing dataset and the\nAmes housing dataset. You can load the datasets as follows::\n\n    from sklearn.datasets import fetch_california_housing\n    housing = fetch_california_housing()\n\nfor the California housing dataset and::\n\n    from sklearn.datasets import fetch_openml\n    housing = fetch_openml(name=\"house_prices\", as_frame=True)\n\nfor the Ames housing dataset.\n\n[1] M Carlisle.\n\"Racist data destruction?\"\n<https://medium.com/@docintangible/racist-data-destruction-113e3eff54a8>\n\n[2] Harrison Jr, David, and Daniel L. Rubinfeld.\n\"Hedonic housing prices and the demand for clean air.\"\nJournal of environmental economics and management 5.1 (1978): 81-102.\n<https://www.researchgate.net/publication/4974606_Hedonic_housing_prices_and_the_demand_for_clean_air>\n"
     ]
    }
   ],
   "source": [
    "#インポート\n",
    "from sklearn.datasets import load_boston\n",
    "\n",
    "#Housingデータせっとを読み込み\n",
    "boston = load_boston()\n",
    "\n",
    "#detaFrameにデータを格納\n",
    "X = pd.DataFrame(boston.data,columns = boston.feature_names)\n",
    "\n",
    "#住宅価格の中央値(MEDV)のデータを用意\n",
    "y=pd.Series(boston.target,name='MEDV')\n",
    "\n",
    "#Xとyを結合して先頭5行を表示\n",
    "X.join(y).head()\n",
    "#最近bostonのデータは倫理上の問題によりsklearnから削除されてたらしい"
   ]
  },
  {
   "attachments": {},
   "cell_type": "markdown",
   "metadata": {},
   "source": [
    "## アンサンブル学習\n",
    "#### バギング\n",
    "学習データからランダムにn行のデータを復元抽出し、新しい学習データを作成することを繰り返す(ブーストラップ)。  \n",
    "取り出したデータそれぞれに対して1つ1つモデルを作りモデルの結果を集約して予測する。  "
   ]
  },
  {
   "cell_type": "code",
   "execution_count": null,
   "metadata": {},
   "outputs": [
    {
     "data": {
      "text/html": [
       "<div>\n",
       "<style scoped>\n",
       "    .dataframe tbody tr th:only-of-type {\n",
       "        vertical-align: middle;\n",
       "    }\n",
       "\n",
       "    .dataframe tbody tr th {\n",
       "        vertical-align: top;\n",
       "    }\n",
       "\n",
       "    .dataframe thead th {\n",
       "        text-align: right;\n",
       "    }\n",
       "</style>\n",
       "<table border=\"1\" class=\"dataframe\">\n",
       "  <thead>\n",
       "    <tr style=\"text-align: right;\">\n",
       "      <th></th>\n",
       "      <th>test_name</th>\n",
       "      <th>train_name</th>\n",
       "    </tr>\n",
       "  </thead>\n",
       "  <tbody>\n",
       "    <tr>\n",
       "      <th>KNN</th>\n",
       "      <td>0.923077</td>\n",
       "      <td>0.948357</td>\n",
       "    </tr>\n",
       "    <tr>\n",
       "      <th>bagging</th>\n",
       "      <td>0.937063</td>\n",
       "      <td>0.950704</td>\n",
       "    </tr>\n",
       "  </tbody>\n",
       "</table>\n",
       "</div>"
      ],
      "text/plain": [
       "         test_name  train_name\n",
       "KNN       0.923077    0.948357\n",
       "bagging   0.937063    0.950704"
      ]
     },
     "execution_count": 65,
     "metadata": {},
     "output_type": "execute_result"
    }
   ],
   "source": [
    "#インポート\n",
    "from sklearn.ensemble import BaggingClassifier\n",
    "from sklearn.neighbors import KNeighborsClassifier\n",
    "from sklearn.model_selection import train_test_split\n",
    "\n",
    "#乳がんのデータを読み込み\n",
    "cancer = load_breast_cancer()\n",
    "\n",
    "#訓練データとテストデータに分ける\n",
    "X_train,X_test,y_train,y_test=train_test_split(\n",
    "    cancer.data,\n",
    "    cancer.target,\n",
    "    stratify=cancer.target,\n",
    "    random_state = 66\n",
    ")\n",
    "\n",
    "#K-NNモデルとそのバギングの設定\n",
    "models = {\n",
    "    'KNN':KNeighborsClassifier(),\n",
    "    'bagging':BaggingClassifier(KNeighborsClassifier(),n_estimators=100,random_state = 0)\n",
    "}\n",
    "\n",
    "#モデル構築\n",
    "scores = {}\n",
    "for model_name,model in models.items():\n",
    "    model.fit(X_train,y_train)\n",
    "    scores[(model_name,'train_name')] = model.score(X_train,y_train)\n",
    "    scores[(model_name,'test_name')] = model.score(X_test,y_test)\n",
    "\n",
    "#結果の表示\n",
    "pd.Series(scores).unstack()"
   ]
  },
  {
   "cell_type": "code",
   "execution_count": null,
   "metadata": {},
   "outputs": [
    {
     "data": {
      "text/html": [
       "<div>\n",
       "<style scoped>\n",
       "    .dataframe tbody tr th:only-of-type {\n",
       "        vertical-align: middle;\n",
       "    }\n",
       "\n",
       "    .dataframe tbody tr th {\n",
       "        vertical-align: top;\n",
       "    }\n",
       "\n",
       "    .dataframe thead th {\n",
       "        text-align: right;\n",
       "    }\n",
       "</style>\n",
       "<table border=\"1\" class=\"dataframe\">\n",
       "  <thead>\n",
       "    <tr style=\"text-align: right;\">\n",
       "      <th></th>\n",
       "      <th>test_name</th>\n",
       "      <th>train_name</th>\n",
       "    </tr>\n",
       "  </thead>\n",
       "  <tbody>\n",
       "    <tr>\n",
       "      <th>KNN</th>\n",
       "      <td>0.947368</td>\n",
       "      <td>0.973214</td>\n",
       "    </tr>\n",
       "    <tr>\n",
       "      <th>bagging</th>\n",
       "      <td>0.947368</td>\n",
       "      <td>0.982143</td>\n",
       "    </tr>\n",
       "  </tbody>\n",
       "</table>\n",
       "</div>"
      ],
      "text/plain": [
       "         test_name  train_name\n",
       "KNN       0.947368    0.973214\n",
       "bagging   0.947368    0.982143"
      ]
     },
     "execution_count": 66,
     "metadata": {},
     "output_type": "execute_result"
    }
   ],
   "source": [
    "#練習問題10-5\n",
    "#インポート\n",
    "from sklearn.ensemble import BaggingClassifier\n",
    "from sklearn.neighbors import KNeighborsClassifier\n",
    "from sklearn.model_selection import train_test_split\n",
    "\n",
    "#乳がんのデータを読み込み\n",
    "cancer = load_iris()\n",
    "\n",
    "#訓練データとテストデータに分ける\n",
    "X_train,X_test,y_train,y_test=train_test_split(\n",
    "    cancer.data,\n",
    "    cancer.target,\n",
    "    stratify=cancer.target,\n",
    "    random_state = 66\n",
    ")\n",
    "\n",
    "#K-NNモデルとそのバギングの設定\n",
    "models = {\n",
    "    'KNN':KNeighborsClassifier(),\n",
    "    'bagging':BaggingClassifier(KNeighborsClassifier(),max_samples=0.5,random_state = 0)\n",
    "}\n",
    "\n",
    "#モデル構築\n",
    "scores = {}\n",
    "for model_name,model in models.items():\n",
    "    model.fit(X_train,y_train)\n",
    "    scores[(model_name,'train_name')] = model.score(X_train,y_train)\n",
    "    scores[(model_name,'test_name')] = model.score(X_test,y_test)\n",
    "\n",
    "#結果の表示\n",
    "pd.Series(scores).unstack()"
   ]
  },
  {
   "attachments": {},
   "cell_type": "markdown",
   "metadata": {},
   "source": [
    "#### ブースティング\n",
    "バギングとは違い学習データから予測と正解が近いサンプルを排除し、新しいデータ(主に予測できなかったデータに対して)としてまた学習していく。  \n",
    "学習不足携行のときに効果的な手法\n",
    "#### ランダムフォレスト\n",
    "決定木を弱学習器とするアンサンブル学習アルゴリズム\n",
    "#### 勾配ブースティング\n",
    "目的関数(予測と正解の誤差)が最小となるようにブースティングさせる手法  \n",
    "https://qiita.com/kuroitu/items/57425380546f7b9ed91c#%E5%8B%BE%E9%85%8D%E9%99%8D%E4%B8%8B%E6%B3%95"
   ]
  }
 ],
 "metadata": {
  "kernelspec": {
   "display_name": "Python 3",
   "language": "python",
   "name": "python3"
  },
  "language_info": {
   "codemirror_mode": {
    "name": "ipython",
    "version": 3
   },
   "file_extension": ".py",
   "mimetype": "text/x-python",
   "name": "python",
   "nbconvert_exporter": "python",
   "pygments_lexer": "ipython3",
   "version": "3.9.6"
  },
  "orig_nbformat": 4
 },
 "nbformat": 4,
 "nbformat_minor": 2
}
